{
 "cells": [
  {
   "cell_type": "code",
   "execution_count": 159,
   "id": "6d40eba1",
   "metadata": {},
   "outputs": [],
   "source": [
    "import torch\n",
    "import matplotlib.pyplot as plt"
   ]
  },
  {
   "cell_type": "code",
   "execution_count": 160,
   "id": "84ce7400",
   "metadata": {},
   "outputs": [],
   "source": [
    "class SAM(torch.optim.Optimizer):\n",
    "    def __init__(self, params, base_optimizer, rho=0.05, adaptive=False, **kwargs):\n",
    "        assert rho >= 0.0, f\"Invalid rho, should be non-negative: {rho}\"\n",
    "\n",
    "        defaults = dict(rho=rho, adaptive=adaptive, **kwargs)\n",
    "        super(SAM, self).__init__(params, defaults)\n",
    "\n",
    "        self.base_optimizer = base_optimizer(self.param_groups, **kwargs)\n",
    "        self.param_groups = self.base_optimizer.param_groups\n",
    "        self.defaults.update(self.base_optimizer.defaults)\n",
    "\n",
    "    @torch.no_grad()\n",
    "    def first_step(self, zero_grad=False):\n",
    "        grad_norm = self._grad_norm()\n",
    "        for group in self.param_groups:\n",
    "            scale = group[\"rho\"] / (grad_norm + 1e-12)\n",
    "\n",
    "            for p in group[\"params\"]:\n",
    "                if p.grad is None: continue\n",
    "                self.state[p][\"old_p\"] = p.data.clone()\n",
    "                e_w = (torch.pow(p, 2) if group[\"adaptive\"] else 1.0) * p.grad * scale.to(p)\n",
    "                p.add_(e_w)  # climb to the local maximum \"w + e(w)\"\n",
    "\n",
    "        if zero_grad: self.zero_grad()\n",
    "\n",
    "    @torch.no_grad()\n",
    "    def second_step(self, zero_grad=False):\n",
    "        for group in self.param_groups:\n",
    "            for p in group[\"params\"]:\n",
    "                if p.grad is None: continue\n",
    "                p.data = self.state[p][\"old_p\"]  # get back to \"w\" from \"w + e(w)\"\n",
    "\n",
    "        self.base_optimizer.step()  # do the actual \"sharpness-aware\" update\n",
    "\n",
    "        if zero_grad: self.zero_grad()\n",
    "\n",
    "    @torch.no_grad()\n",
    "    def step(self, closure=None):\n",
    "        assert closure is not None, \"Sharpness Aware Minimization requires closure, but it was not provided\"\n",
    "        closure = torch.enable_grad()(closure)  # the closure should do a full forward-backward pass\n",
    "\n",
    "        self.first_step(zero_grad=True)\n",
    "        closure()\n",
    "        self.second_step()\n",
    "\n",
    "    def _grad_norm(self):\n",
    "        shared_device = self.param_groups[0][\"params\"][0].device  # put everything on the same device, in case of model parallelism\n",
    "        norm = torch.norm(\n",
    "                    torch.stack([\n",
    "                        ((torch.abs(p) if group[\"adaptive\"] else 1.0) * p.grad).norm(p=2).to(shared_device)\n",
    "                        for group in self.param_groups for p in group[\"params\"]\n",
    "                        if p.grad is not None\n",
    "                    ]),\n",
    "                    p=2\n",
    "               )\n",
    "        return norm\n",
    "\n",
    "    def load_state_dict(self, state_dict):\n",
    "        super().load_state_dict(state_dict)\n",
    "        self.base_optimizer.param_groups = self.param_groups"
   ]
  },
  {
   "cell_type": "code",
   "execution_count": 161,
   "id": "98accce0",
   "metadata": {},
   "outputs": [],
   "source": [
    "init_val = 0.05\n",
    "iterations = 20\n",
    "lr = 1.0"
   ]
  },
  {
   "cell_type": "code",
   "execution_count": 162,
   "id": "4a345873",
   "metadata": {},
   "outputs": [
    {
     "name": "stdout",
     "output_type": "stream",
     "text": [
      "Iter 0 Step 1: x = 0.06000000238418579, y = 0.002500000176951289\n",
      "Iter 0 Step 2: x = -0.07000000774860382, y = 0.0036000001709908247\n",
      "Iter 1 Step 1: x = -0.08000000566244125, y = 0.004900000989437103\n",
      "Iter 1 Step 2: x = 0.09000000357627869, y = 0.006400000769644976\n",
      "Iter 2 Step 1: x = 0.10000000149011612, y = 0.008100000210106373\n",
      "Iter 2 Step 2: x = -0.10999999940395355, y = 0.010000000707805157\n",
      "Iter 3 Step 1: x = -0.11999999731779099, y = 0.01209999993443489\n",
      "Iter 3 Step 2: x = 0.12999999523162842, y = 0.014399999752640724\n",
      "Iter 4 Step 1: x = 0.14000000059604645, y = 0.016899999231100082\n",
      "Iter 4 Step 2: x = -0.15000000596046448, y = 0.019600000232458115\n",
      "Iter 5 Step 1: x = -0.1600000113248825, y = 0.02250000089406967\n",
      "Iter 5 Step 2: x = 0.17000001668930054, y = 0.025600003078579903\n",
      "Iter 6 Step 1: x = 0.18000002205371857, y = 0.02890000492334366\n",
      "Iter 6 Step 2: x = -0.1900000274181366, y = 0.03240000829100609\n",
      "Iter 7 Step 1: x = -0.20000003278255463, y = 0.03610001131892204\n",
      "Iter 7 Step 2: x = 0.21000003814697266, y = 0.04000001400709152\n",
      "Iter 8 Step 1: x = 0.22000004351139069, y = 0.044100016355514526\n",
      "Iter 8 Step 2: x = -0.23000004887580872, y = 0.048400018364191055\n",
      "Iter 9 Step 1: x = -0.24000005424022675, y = 0.05290002375841141\n",
      "Iter 9 Step 2: x = 0.2500000596046448, y = 0.057600025087594986\n",
      "Iter 10 Step 1: x = 0.2600000500679016, y = 0.06250002980232239\n",
      "Iter 10 Step 2: x = -0.27000004053115845, y = 0.06760002672672272\n",
      "Iter 11 Step 1: x = -0.2800000309944153, y = 0.07290001958608627\n",
      "Iter 11 Step 2: x = 0.2900000214576721, y = 0.07840001583099365\n",
      "Iter 12 Step 1: x = 0.30000001192092896, y = 0.08410001546144485\n",
      "Iter 12 Step 2: x = -0.3100000023841858, y = 0.09000000357627869\n",
      "Iter 13 Step 1: x = -0.3199999928474426, y = 0.09610000252723694\n",
      "Iter 13 Step 2: x = 0.32999998331069946, y = 0.10239999741315842\n",
      "Iter 14 Step 1: x = 0.3399999737739563, y = 0.10889998823404312\n",
      "Iter 14 Step 2: x = -0.34999996423721313, y = 0.11559998244047165\n",
      "Iter 15 Step 1: x = -0.35999995470046997, y = 0.1224999725818634\n",
      "Iter 15 Step 2: x = 0.3699999451637268, y = 0.12959997355937958\n",
      "Iter 16 Step 1: x = 0.37999993562698364, y = 0.13689996302127838\n",
      "Iter 16 Step 2: x = -0.3899999260902405, y = 0.144399955868721\n",
      "Iter 17 Step 1: x = -0.3999999165534973, y = 0.15209993720054626\n",
      "Iter 17 Step 2: x = 0.40999990701675415, y = 0.15999993681907654\n",
      "Iter 18 Step 1: x = 0.419999897480011, y = 0.16809992492198944\n",
      "Iter 18 Step 2: x = -0.4299998879432678, y = 0.17639991641044617\n",
      "Iter 19 Step 1: x = -0.43999987840652466, y = 0.18489989638328552\n",
      "Iter 19 Step 2: x = 0.4499998688697815, y = 0.1935998946428299\n",
      "Iter 0 Step 1: x = 0.10000000149011612, y = 0.002500000176951289\n",
      "Iter 0 Step 2: x = -0.15000000596046448, y = 0.010000000707805157\n",
      "Iter 1 Step 1: x = -0.20000001788139343, y = 0.02250000089406967\n",
      "Iter 1 Step 2: x = 0.2500000298023224, y = 0.040000006556510925\n",
      "Iter 2 Step 1: x = 0.30000004172325134, y = 0.0625000149011612\n",
      "Iter 2 Step 2: x = -0.3500000536441803, y = 0.09000002592802048\n",
      "Iter 3 Step 1: x = -0.40000006556510925, y = 0.12250003963708878\n",
      "Iter 3 Step 2: x = 0.4500000774860382, y = 0.1600000560283661\n",
      "Iter 4 Step 1: x = 0.5000000596046448, y = 0.20250007510185242\n",
      "Iter 4 Step 2: x = -0.5500000715255737, y = 0.2500000596046448\n",
      "Iter 5 Step 1: x = -0.6000000834465027, y = 0.30250006914138794\n",
      "Iter 5 Step 2: x = 0.6500000953674316, y = 0.3600001037120819\n",
      "Iter 6 Step 1: x = 0.7000001072883606, y = 0.4225001335144043\n",
      "Iter 6 Step 2: x = -0.7500001192092896, y = 0.4900001585483551\n",
      "Iter 7 Step 1: x = -0.8000001311302185, y = 0.5625001788139343\n",
      "Iter 7 Step 2: x = 0.8500001430511475, y = 0.6400002241134644\n",
      "Iter 8 Step 1: x = 0.9000001549720764, y = 0.7225002646446228\n",
      "Iter 8 Step 2: x = -0.9500001668930054, y = 0.8100003004074097\n",
      "Iter 9 Step 1: x = -1.0000001192092896, y = 0.902500331401825\n",
      "Iter 9 Step 2: x = 1.0500000715255737, y = 1.000000238418579\n",
      "Iter 10 Step 1: x = 1.100000023841858, y = 1.1025002002716064\n",
      "Iter 10 Step 2: x = -1.149999976158142, y = 1.2100000381469727\n",
      "Iter 11 Step 1: x = -1.1999999284744263, y = 1.3224999904632568\n",
      "Iter 11 Step 2: x = 1.2499998807907104, y = 1.4399998188018799\n",
      "Iter 12 Step 1: x = 1.2999998331069946, y = 1.562499761581421\n",
      "Iter 12 Step 2: x = -1.3499997854232788, y = 1.6899995803833008\n",
      "Iter 13 Step 1: x = -1.399999737739563, y = 1.822499394416809\n",
      "Iter 13 Step 2: x = 1.4499996900558472, y = 1.9599993228912354\n",
      "Iter 14 Step 1: x = 1.4999996423721313, y = 2.102499008178711\n",
      "Iter 14 Step 2: x = -1.5499995946884155, y = 2.2499990463256836\n",
      "Iter 15 Step 1: x = -1.5999995470046997, y = 2.402498722076416\n",
      "Iter 15 Step 2: x = 1.6499994993209839, y = 2.5599985122680664\n",
      "Iter 16 Step 1: x = 1.699999451637268, y = 2.7224984169006348\n",
      "Iter 16 Step 2: x = -1.7499994039535522, y = 2.889998197555542\n",
      "Iter 17 Step 1: x = -1.7999993562698364, y = 3.062497854232788\n",
      "Iter 17 Step 2: x = 1.8499993085861206, y = 3.239997625350952\n",
      "Iter 18 Step 1: x = 1.8999992609024048, y = 3.422497510910034\n",
      "Iter 18 Step 2: x = -1.949999213218689, y = 3.609997272491455\n",
      "Iter 19 Step 1: x = -1.9999991655349731, y = 3.802496910095215\n",
      "Iter 19 Step 2: x = 2.049999237060547, y = 3.9999966621398926\n"
     ]
    }
   ],
   "source": [
    "sam_out = {}\n",
    "for rho in [0.01, 0.05]:\n",
    "    sam_x = []\n",
    "    sam_y = []\n",
    "    sam_t = []\n",
    "    x = torch.tensor(init_val, requires_grad=True)\n",
    "    base_optimizer = torch.optim.SGD  # define an optimizer for the \"sharpness-aware\" update\n",
    "    optimizer = SAM([x], base_optimizer, rho=rho, lr=lr)\n",
    "\n",
    "    for i in range(iterations):\n",
    "        sam_t.append(i + 1)\n",
    "        sam_x.append(x.item())\n",
    "        optimizer.zero_grad()\n",
    "        y = x**2\n",
    "        y.backward()\n",
    "        optimizer.first_step(zero_grad=True)\n",
    "\n",
    "        print(f\"Iter {i} Step 1: x = {x}, y = {y}\")\n",
    "\n",
    "        y = x**2\n",
    "        y.backward()\n",
    "        optimizer.second_step(zero_grad=True)\n",
    "\n",
    "        print(f\"Iter {i} Step 2: x = {x}, y = {y}\")\n",
    "\n",
    "        sam_y.append(y.item())\n",
    "    sam_out[rho] = [sam_x, sam_y, sam_t]"
   ]
  },
  {
   "cell_type": "code",
   "execution_count": 163,
   "id": "2649fa12",
   "metadata": {
    "scrolled": true
   },
   "outputs": [
    {
     "name": "stdout",
     "output_type": "stream",
     "text": [
      "Iter 0: x = -0.05000000074505806, y = 0.002500000176951289\n",
      "Iter 1: x = 0.05000000074505806, y = 0.002500000176951289\n",
      "Iter 2: x = -0.05000000074505806, y = 0.002500000176951289\n",
      "Iter 3: x = 0.05000000074505806, y = 0.002500000176951289\n",
      "Iter 4: x = -0.05000000074505806, y = 0.002500000176951289\n",
      "Iter 5: x = 0.05000000074505806, y = 0.002500000176951289\n",
      "Iter 6: x = -0.05000000074505806, y = 0.002500000176951289\n",
      "Iter 7: x = 0.05000000074505806, y = 0.002500000176951289\n",
      "Iter 8: x = -0.05000000074505806, y = 0.002500000176951289\n",
      "Iter 9: x = 0.05000000074505806, y = 0.002500000176951289\n",
      "Iter 10: x = -0.05000000074505806, y = 0.002500000176951289\n",
      "Iter 11: x = 0.05000000074505806, y = 0.002500000176951289\n",
      "Iter 12: x = -0.05000000074505806, y = 0.002500000176951289\n",
      "Iter 13: x = 0.05000000074505806, y = 0.002500000176951289\n",
      "Iter 14: x = -0.05000000074505806, y = 0.002500000176951289\n",
      "Iter 15: x = 0.05000000074505806, y = 0.002500000176951289\n",
      "Iter 16: x = -0.05000000074505806, y = 0.002500000176951289\n",
      "Iter 17: x = 0.05000000074505806, y = 0.002500000176951289\n",
      "Iter 18: x = -0.05000000074505806, y = 0.002500000176951289\n",
      "Iter 19: x = 0.05000000074505806, y = 0.002500000176951289\n"
     ]
    }
   ],
   "source": [
    "sgd_x = []\n",
    "sgd_y = []\n",
    "sgd_t = []\n",
    "x = torch.tensor(init_val, requires_grad=True)\n",
    "optimizer = torch.optim.SGD([x], lr=lr)\n",
    "\n",
    "for i in range(iterations):\n",
    "    sgd_t.append(i + 1)\n",
    "    sgd_x.append(x.item())\n",
    "    optimizer.zero_grad()\n",
    "    y = x**2\n",
    "    y.backward()\n",
    "    optimizer.step()\n",
    "    \n",
    "    print(f\"Iter {i}: x = {x}, y = {y}\")\n",
    "    \n",
    "    sgd_y.append(y.item())"
   ]
  },
  {
   "cell_type": "code",
   "execution_count": 164,
   "id": "992f0b15",
   "metadata": {},
   "outputs": [
    {
     "name": "stdout",
     "output_type": "stream",
     "text": [
      "Iter 0 Step 1: x = 0.05050000175833702, y = 0.002500000176951289\n",
      "Iter 0 Step 2: x = -0.05100000277161598, y = 0.0025502501521259546\n",
      "Iter 1 Step 1: x = -0.051510002464056015, y = 0.0026010002475231886\n",
      "Iter 1 Step 2: x = 0.05202000215649605, y = 0.002653280273079872\n",
      "Iter 2 Step 1: x = 0.05254020169377327, y = 0.002706080675125122\n",
      "Iter 2 Step 2: x = -0.05306040123105049, y = 0.00276047270745039\n",
      "Iter 3 Step 1: x = -0.05359100550413132, y = 0.002815406071022153\n",
      "Iter 3 Step 2: x = 0.05412160977721214, y = 0.0028719957917928696\n",
      "Iter 4 Step 1: x = 0.05466282740235329, y = 0.002929148729890585\n",
      "Iter 4 Step 2: x = -0.05520404502749443, y = 0.002988024614751339\n",
      "Iter 5 Step 1: x = -0.055756084620952606, y = 0.0030474865343421698\n",
      "Iter 5 Step 2: x = 0.05630812421441078, y = 0.0031087410170584917\n",
      "Iter 6 Step 1: x = 0.0568712055683136, y = 0.003170604817569256\n",
      "Iter 6 Step 2: x = -0.057434286922216415, y = 0.0032343340571969748\n",
      "Iter 7 Step 1: x = -0.05800862982869148, y = 0.003298697294667363\n",
      "Iter 7 Step 2: x = 0.05858297273516655, y = 0.0033650011755526066\n",
      "Iter 8 Step 1: x = 0.059168800711631775, y = 0.0034319646656513214\n",
      "Iter 8 Step 2: x = -0.059754628688097, y = 0.003500947030261159\n",
      "Iter 9 Step 1: x = -0.060352176427841187, y = 0.0035706155467778444\n",
      "Iter 9 Step 2: x = 0.06094972416758537, y = 0.0036423851270228624\n",
      "Iter 10 Step 1: x = 0.061559222638607025, y = 0.003714868798851967\n",
      "Iter 10 Step 2: x = -0.06216872110962868, y = 0.0037895378191024065\n",
      "Iter 11 Step 1: x = -0.0627904087305069, y = 0.0038649498019367456\n",
      "Iter 11 Step 2: x = 0.06341210007667542, y = 0.003942635376006365\n",
      "Iter 12 Step 1: x = 0.0640462189912796, y = 0.004021094646304846\n",
      "Iter 12 Step 2: x = -0.06468033790588379, y = 0.004101918078958988\n",
      "Iter 13 Step 1: x = -0.06532713770866394, y = 0.004183546174317598\n",
      "Iter 13 Step 2: x = 0.06597393751144409, y = 0.004267634823918343\n",
      "Iter 14 Step 1: x = 0.0666336789727211, y = 0.004352560266852379\n",
      "Iter 14 Step 2: x = -0.06729342043399811, y = 0.004440047312527895\n",
      "Iter 15 Step 1: x = -0.06796635687351227, y = 0.004528404213488102\n",
      "Iter 15 Step 2: x = 0.06863929331302643, y = 0.004619425628334284\n",
      "Iter 16 Step 1: x = 0.06932568550109863, y = 0.004711352754384279\n",
      "Iter 16 Step 2: x = -0.07001207768917084, y = 0.004806050565093756\n",
      "Iter 17 Step 1: x = -0.07071220129728317, y = 0.004901690874248743\n",
      "Iter 17 Step 2: x = 0.07141232490539551, y = 0.0050002154894173145\n",
      "Iter 18 Step 1: x = 0.07212644815444946, y = 0.005099720321595669\n",
      "Iter 18 Step 2: x = -0.07284057140350342, y = 0.005202224478125572\n",
      "Iter 19 Step 1: x = -0.07356897741556168, y = 0.005305748898535967\n",
      "Iter 19 Step 2: x = 0.07429738342761993, y = 0.005412394646555185\n",
      "Iter 0 Step 1: x = 0.05250000208616257, y = 0.002500000176951289\n",
      "Iter 0 Step 2: x = -0.055000003427267075, y = 0.002756250323727727\n",
      "Iter 1 Step 1: x = -0.057750001549720764, y = 0.00302500044927001\n",
      "Iter 1 Step 2: x = 0.060499999672174454, y = 0.0033350626472383738\n",
      "Iter 2 Step 1: x = 0.0635249987244606, y = 0.00366024998947978\n",
      "Iter 2 Step 2: x = -0.06655000150203705, y = 0.0040354253724217415\n",
      "Iter 3 Step 1: x = -0.0698775053024292, y = 0.004428902640938759\n",
      "Iter 3 Step 2: x = 0.07320500910282135, y = 0.004882865585386753\n",
      "Iter 4 Step 1: x = 0.07686526328325272, y = 0.005358973518013954\n",
      "Iter 4 Step 2: x = -0.08052551746368408, y = 0.005908268503844738\n",
      "Iter 5 Step 1: x = -0.08455179631710052, y = 0.006484359037131071\n",
      "Iter 5 Step 2: x = 0.08857807517051697, y = 0.007149006240069866\n",
      "Iter 6 Step 1: x = 0.09300697594881058, y = 0.007846075110137463\n",
      "Iter 6 Step 2: x = -0.09743587672710419, y = 0.008650297299027443\n",
      "Iter 7 Step 1: x = -0.10230766981840134, y = 0.009493750520050526\n",
      "Iter 7 Step 2: x = 0.10717946290969849, y = 0.010466859675943851\n",
      "Iter 8 Step 1: x = 0.11253843456506729, y = 0.011487437412142754\n",
      "Iter 8 Step 2: x = -0.1178974062204361, y = 0.012664899230003357\n",
      "Iter 9 Step 1: x = -0.12379227578639984, y = 0.01389979850500822\n",
      "Iter 9 Step 2: x = 0.1296871453523636, y = 0.015324527397751808\n",
      "Iter 10 Step 1: x = 0.13617150485515594, y = 0.016818756237626076\n",
      "Iter 10 Step 2: x = -0.1426558643579483, y = 0.018542679026722908\n",
      "Iter 11 Step 1: x = -0.14978866279125214, y = 0.02035069651901722\n",
      "Iter 11 Step 2: x = 0.15692146122455597, y = 0.02243664301931858\n",
      "Iter 12 Step 1: x = 0.1647675335407257, y = 0.02462434582412243\n",
      "Iter 12 Step 2: x = -0.17261360585689545, y = 0.02714833989739418\n",
      "Iter 13 Step 1: x = -0.18124428391456604, y = 0.029795456677675247\n",
      "Iter 13 Step 2: x = 0.18987496197223663, y = 0.03284949064254761\n",
      "Iter 14 Step 1: x = 0.19936871528625488, y = 0.03605250269174576\n",
      "Iter 14 Step 2: x = -0.20886246860027313, y = 0.03974788635969162\n",
      "Iter 15 Step 1: x = -0.2193055897951126, y = 0.04362352937459946\n",
      "Iter 15 Step 2: x = 0.2297487109899521, y = 0.048094943165779114\n",
      "Iter 16 Step 1: x = 0.24123615026474, y = 0.05278446897864342\n",
      "Iter 16 Step 2: x = -0.2527235746383667, y = 0.058194879442453384\n",
      "Iter 17 Step 1: x = -0.2653597593307495, y = 0.06386920809745789\n",
      "Iter 17 Step 2: x = 0.2779959440231323, y = 0.07041580229997635\n",
      "Iter 18 Step 1: x = 0.2918957471847534, y = 0.07728174328804016\n",
      "Iter 18 Step 2: x = -0.3057955503463745, y = 0.0852031260728836\n",
      "Iter 19 Step 1: x = -0.3210853338241577, y = 0.09351091831922531\n",
      "Iter 19 Step 2: x = 0.3363751173019409, y = 0.10309579223394394\n"
     ]
    }
   ],
   "source": [
    "asam_out = {}\n",
    "for rho in [0.01, 0.05]:\n",
    "    asam_x = []\n",
    "    asam_y = []\n",
    "    asam_t = []\n",
    "    x = torch.tensor(init_val, requires_grad=True)\n",
    "    base_optimizer = torch.optim.SGD  # define an optimizer for the \"sharpness-aware\" update\n",
    "    optimizer = SAM([x], base_optimizer, rho=rho, adaptive=True, lr=lr)\n",
    "\n",
    "    for i in range(iterations):\n",
    "        asam_t.append(i + 1)\n",
    "        asam_x.append(x.item())\n",
    "        optimizer.zero_grad()\n",
    "        y = x**2\n",
    "        y.backward()\n",
    "        optimizer.first_step(zero_grad=True)\n",
    "\n",
    "        print(f\"Iter {i} Step 1: x = {x}, y = {y}\")\n",
    "\n",
    "        y = x**2\n",
    "        y.backward()\n",
    "        optimizer.second_step(zero_grad=True)\n",
    "\n",
    "        print(f\"Iter {i} Step 2: x = {x}, y = {y}\")\n",
    "\n",
    "        asam_y.append(y.item())\n",
    "    asam_out[rho] = [asam_x, asam_y, asam_t]"
   ]
  },
  {
   "cell_type": "code",
   "execution_count": 165,
   "id": "69e91a2c",
   "metadata": {},
   "outputs": [
    {
     "data": {
      "text/plain": [
       "<matplotlib.collections.PathCollection at 0x2405a9e9ac0>"
      ]
     },
     "execution_count": 165,
     "metadata": {},
     "output_type": "execute_result"
    },
    {
     "data": {
      "image/png": "[encoded data removed]",
      "text/plain": [
       "<Figure size 432x288 with 1 Axes>"
      ]
     },
     "metadata": {
      "needs_background": "light"
     },
     "output_type": "display_data"
    }
   ],
   "source": [
    "import numpy as np\n",
    "\n",
    "# create 1000 equally spaced points between -10 and 10\n",
    "x = np.linspace(-30, 30, 100)\n",
    "\n",
    "# calculate the y value for each element of the x vector\n",
    "y = x**2\n",
    "\n",
    "fig, ax = plt.subplots()\n",
    "plt.xlim(-0.01, 0.01)\n",
    "ax.plot(x, y)\n",
    "ax.scatter(sgd_x, sgd_y)"
   ]
  },
  {
   "cell_type": "code",
   "execution_count": 166,
   "id": "6e268609",
   "metadata": {},
   "outputs": [
    {
     "data": {
      "text/plain": [
       "<matplotlib.collections.PathCollection at 0x2405abdda00>"
      ]
     },
     "execution_count": 166,
     "metadata": {},
     "output_type": "execute_result"
    },
    {
     "data": {
      "image/png": "[encoded data removed]",
      "text/plain": [
       "<Figure size 432x288 with 1 Axes>"
      ]
     },
     "metadata": {
      "needs_background": "light"
     },
     "output_type": "display_data"
    }
   ],
   "source": [
    "fig, ax = plt.subplots()\n",
    "plt.xlim(-0.01, 0.01)\n",
    "ax.plot(x, y)\n",
    "ax.scatter(sam_x, sam_y)"
   ]
  },
  {
   "cell_type": "code",
   "execution_count": 171,
   "id": "07f2bae9",
   "metadata": {},
   "outputs": [
    {
     "data": {
      "text/plain": [
       "Text(0.5, 1.0, 'Learning Rate = 1.0')"
      ]
     },
     "execution_count": 171,
     "metadata": {},
     "output_type": "execute_result"
    },
    {
     "data": {
      "image/png": "[encoded data removed]",
      "text/plain": [
       "<Figure size 500x500 with 1 Axes>"
      ]
     },
     "metadata": {
      "needs_background": "light"
     },
     "output_type": "display_data"
    }
   ],
   "source": [
    "fig = plt.figure(figsize=(5, 5), dpi=100)\n",
    "plt.subplots_adjust(left=0.09, right=1,wspace=500, hspace=0.25, bottom=0.13, top=0.91)\n",
    "\n",
    "\n",
    "ax = fig.add_subplot(1, 1, 1)\n",
    "ax.plot(sgd_t, sgd_y, label='Gradient Descent')\n",
    "ax.plot(sam_out[0.05][2], sam_out[0.05][1], label='SAM (ρ=0.05)')\n",
    "ax.plot(sam_out[0.01][2], sam_out[0.01][1], label='SAM (ρ=0.01)')\n",
    "ax.plot(asam_out[0.05][2], asam_out[0.05][1], label='ASAM (ρ=0.05)')\n",
    "ax.plot(asam_out[0.01][2], asam_out[0.01][1], label='ASAM (ρ=0.01)')\n",
    "ax.legend()\n",
    "ax.set_xlabel(\"iterations\")\n",
    "ax.set_ylabel(\"loss value\")\n",
    "ax.set_title(f'Learning Rate = {lr}')"
   ]
  },
  {
   "cell_type": "code",
   "execution_count": null,
   "id": "933f4790",
   "metadata": {},
   "outputs": [],
   "source": []
  },
  {
   "cell_type": "code",
   "execution_count": null,
   "id": "fa713f32",
   "metadata": {},
   "outputs": [],
   "source": []
  }
 ],
 "metadata": {
  "kernelspec": {
   "display_name": "Python 3 (ipykernel)",
   "language": "python",
   "name": "python3"
  },
  "language_info": {
   "codemirror_mode": {
    "name": "ipython",
    "version": 3
   },
   "file_extension": ".py",
   "mimetype": "text/x-python",
   "name": "python",
   "nbconvert_exporter": "python",
   "pygments_lexer": "ipython3",
   "version": "3.9.7"
  }
 },
 "nbformat": 4,
 "nbformat_minor": 5
}
